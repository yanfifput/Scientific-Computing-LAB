{
  "nbformat": 4,
  "nbformat_minor": 0,
  "metadata": {
    "colab": {
      "name": "soal1.ipynb",
      "provenance": [],
      "collapsed_sections": []
    },
    "kernelspec": {
      "name": "python3",
      "display_name": "Python 3"
    },
    "language_info": {
      "name": "python"
    }
  },
  "cells": [
    {
      "cell_type": "code",
      "execution_count": null,
      "metadata": {
        "colab": {
          "base_uri": "https://localhost:8080/"
        },
        "id": "iGOZjgIrIVq3",
        "outputId": "99b8086a-69a0-4797-c17e-718bc7513438"
      },
      "outputs": [
        {
          "output_type": "stream",
          "name": "stdout",
          "text": [
            "matrix is diagonally dominant\n"
          ]
        }
      ],
      "source": [
        "import numpy as np\n",
        "a = [[8, 3, -3], [-2, -8, 5], [3, 5, 10]]\n",
        "\n",
        "# Find diagonal coefficients\n",
        "diag = np.diag(np.abs(a))\n",
        "\n",
        "# Find row sum without diagonal\n",
        "off_diag = np.sum(np.abs(a), axis=1) - diag\n",
        "\n",
        "if np.all(diag > off_diag):\n",
        "  print('matrix is diagonally dominant')\n",
        "else:\n",
        "  print('NOT diagonally dominant')"
      ]
    },
    {
      "cell_type": "code",
      "source": [
        "x1 = 0\n",
        "x2 = 0\n",
        "x3 = 0\n",
        "epsilon = 0.01\n",
        "converged = False\n",
        "\n",
        "x_old = np.array([x1, x2, x3])"
      ],
      "metadata": {
        "id": "83lGh3aGOjoy"
      },
      "execution_count": null,
      "outputs": []
    },
    {
      "cell_type": "code",
      "source": [
        "print('Iteration results')\n",
        "print('k,  x1,  x2,  x3')\n",
        "for k in range(1, 50):\n",
        "  x1 = (14-3*x2+3*x3)/8\n",
        "  x2 = (5+2*x1-5*x3)/(-8)\n",
        "  x3 = (-8-3*x1-5*x2)/(10)\n",
        "  x = np.array([x1, x2, x3])\n",
        "  # check if it it smaller than threshold\n",
        "  dx = np.sqrt(np.dot(x-x_old, x-x_old))\n",
        "\n",
        "  print(\"%d, %.4f, %.4f, %.4f\"%(k, x1, x2, x3))\n",
        "  if dx < epsilon:\n",
        "    converged = True\n",
        "    print('Converged!')\n",
        "    break\n",
        "\n",
        "    # assign the latest x value to old value\n",
        "    x_old = x\n",
        "\n",
        "if not converged:\n",
        "  print('Not converge, increase the # of iterations')\n"
      ],
      "metadata": {
        "colab": {
          "base_uri": "https://localhost:8080/"
        },
        "id": "pv8eAQF9PIQB",
        "outputId": "02c265a0-2d01-47b5-882d-49845137ab4e"
      },
      "execution_count": null,
      "outputs": [
        {
          "output_type": "stream",
          "name": "stdout",
          "text": [
            "Iteration results\n",
            "k,  x1,  x2,  x3\n",
            "1, 1.7500, -1.0625, -0.7937\n",
            "2, 1.8508, -1.5838, -0.5633\n",
            "3, 2.1327, -1.5103, -0.6847\n",
            "4, 2.0596, -1.5678, -0.6340\n",
            "5, 2.1002, -1.5463, -0.6569\n",
            "6, 2.0835, -1.5565, -0.6468\n",
            "7, 2.0911, -1.5520, -0.6513\n",
            "8, 2.0878, -1.5540, -0.6493\n",
            "9, 2.0893, -1.5531, -0.6502\n",
            "10, 2.0886, -1.5535, -0.6498\n",
            "11, 2.0889, -1.5534, -0.6500\n",
            "12, 2.0888, -1.5534, -0.6499\n",
            "13, 2.0888, -1.5534, -0.6499\n",
            "14, 2.0888, -1.5534, -0.6499\n",
            "15, 2.0888, -1.5534, -0.6499\n",
            "16, 2.0888, -1.5534, -0.6499\n",
            "17, 2.0888, -1.5534, -0.6499\n",
            "18, 2.0888, -1.5534, -0.6499\n",
            "19, 2.0888, -1.5534, -0.6499\n",
            "20, 2.0888, -1.5534, -0.6499\n",
            "21, 2.0888, -1.5534, -0.6499\n",
            "22, 2.0888, -1.5534, -0.6499\n",
            "23, 2.0888, -1.5534, -0.6499\n",
            "24, 2.0888, -1.5534, -0.6499\n",
            "25, 2.0888, -1.5534, -0.6499\n",
            "26, 2.0888, -1.5534, -0.6499\n",
            "27, 2.0888, -1.5534, -0.6499\n",
            "28, 2.0888, -1.5534, -0.6499\n",
            "29, 2.0888, -1.5534, -0.6499\n",
            "30, 2.0888, -1.5534, -0.6499\n",
            "31, 2.0888, -1.5534, -0.6499\n",
            "32, 2.0888, -1.5534, -0.6499\n",
            "33, 2.0888, -1.5534, -0.6499\n",
            "34, 2.0888, -1.5534, -0.6499\n",
            "35, 2.0888, -1.5534, -0.6499\n",
            "36, 2.0888, -1.5534, -0.6499\n",
            "37, 2.0888, -1.5534, -0.6499\n",
            "38, 2.0888, -1.5534, -0.6499\n",
            "39, 2.0888, -1.5534, -0.6499\n",
            "40, 2.0888, -1.5534, -0.6499\n",
            "41, 2.0888, -1.5534, -0.6499\n",
            "42, 2.0888, -1.5534, -0.6499\n",
            "43, 2.0888, -1.5534, -0.6499\n",
            "44, 2.0888, -1.5534, -0.6499\n",
            "45, 2.0888, -1.5534, -0.6499\n",
            "46, 2.0888, -1.5534, -0.6499\n",
            "47, 2.0888, -1.5534, -0.6499\n",
            "48, 2.0888, -1.5534, -0.6499\n",
            "49, 2.0888, -1.5534, -0.6499\n",
            "Not converge, increase the # of iterations\n"
          ]
        }
      ]
    }
  ]
}